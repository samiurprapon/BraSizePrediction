{
 "cells": [
  {
   "cell_type": "markdown",
   "metadata": {},
   "source": [
    "# Bra detection"
   ]
  },
  {
   "cell_type": "markdown",
   "metadata": {},
   "source": [
    "## Import libraries"
   ]
  },
  {
   "cell_type": "code",
   "execution_count": 1,
   "metadata": {
    "scrolled": true
   },
   "outputs": [],
   "source": [
    "from sklearn import preprocessing \n",
    "from sklearn.model_selection import train_test_split\n",
    "from sklearn.preprocessing import LabelBinarizer\n",
    "\n",
    "import matplotlib.pyplot as plt\n",
    "import cv2\n",
    "\n",
    "import tensorflow as tf\n",
    "from tensorflow.keras.preprocessing.image import load_img , img_to_array\n",
    "\n",
    "import pandas as pd \n",
    "import numpy as np\n",
    "\n",
    "import os\n",
    "import time\n",
    "\n",
    "from tensorflow.keras.preprocessing.image import ImageDataGenerator\n",
    "from tensorflow.keras.applications import MobileNetV2\n",
    "from tensorflow.keras.applications.mobilenet_v2 import preprocess_input\n",
    "\n",
    "from tensorflow.keras.layers import Dropout\n",
    "from tensorflow.keras.layers import MaxPooling2D\n",
    "from tensorflow.keras.layers import AveragePooling2D\n",
    "from tensorflow.keras.layers import Dense\n",
    "from tensorflow.keras.layers import Flatten\n",
    "from tensorflow.keras.layers import Input\n",
    "from tensorflow.keras.layers import Conv2D\n",
    "from tensorflow.keras.layers import add\n",
    "from tensorflow.keras.layers import Activation\n",
    "from tensorflow.keras.layers import BatchNormalization\n",
    "\n",
    "from tensorflow.keras.models import Sequential , Model , load_model\n",
    "\n",
    "from tensorflow.keras.utils import to_categorical"
   ]
  },
  {
   "cell_type": "code",
   "execution_count": 2,
   "metadata": {},
   "outputs": [
    {
     "name": "stdout",
     "output_type": "stream",
     "text": [
      "Num GPUs Available:  0\n"
     ]
    }
   ],
   "source": [
    "print(\"Num GPUs Available: \", len(tf.config.list_physical_devices('GPU')))"
   ]
  },
  {
   "cell_type": "code",
   "execution_count": 3,
   "metadata": {},
   "outputs": [],
   "source": [
    "def extract_label(img_path, flag):\n",
    "    filename, extension = os.path.splitext(os.path.basename(img_path))\n",
    "    \n",
    "    subject_id, etc = filename.split(\"__\") # 2 underscore\n",
    "    bra = \"without_bra\"\n",
    "    \n",
    "    if flag:\n",
    "        breast_size, waist_size, band_size, cup_size, with_bra = etc.split('_')\n",
    "        \n",
    "        if with_bra == 'true':\n",
    "            bra = \"with_bra\"\n",
    "\n",
    "        return bra\n",
    "    else:\n",
    "        breast_size, waist_size, band_size, cup_size = etc.split('_')\n",
    "        return bra"
   ]
  },
  {
   "cell_type": "code",
   "execution_count": 4,
   "metadata": {},
   "outputs": [],
   "source": [
    "bra_path = \"./dataset/with_bra\"\n",
    "without_bra_path = \"./dataset/without_bra\"\n",
    "\n",
    "img_size = 224\n",
    "\n",
    "images = []\n",
    "labels = []"
   ]
  },
  {
   "cell_type": "code",
   "execution_count": 5,
   "metadata": {},
   "outputs": [],
   "source": [
    "for image in os.listdir(bra_path):\n",
    "    img = cv2.imread(os.path.join(bra_path, image), cv2.IMREAD_COLOR)\n",
    "    \n",
    "    img_resize = cv2.resize(img, (img_size, img_size))\n",
    "        \n",
    "    # flag = 0 -> no bra\n",
    "    # flag = 1 -> has bra\n",
    "    label = extract_label(os.path.join(bra_path, image), True)\n",
    "    \n",
    "#     print(label)\n",
    "    \n",
    "    labels.append(label)\n",
    "    images.append(img_resize);\n"
   ]
  },
  {
   "cell_type": "code",
   "execution_count": 6,
   "metadata": {},
   "outputs": [],
   "source": [
    "for image in os.listdir(without_bra_path):\n",
    "    img = cv2.imread(os.path.join(without_bra_path, image), cv2.IMREAD_COLOR)\n",
    "    \n",
    "    img_resize = cv2.resize(img, (img_size, img_size))\n",
    "        \n",
    "    # flag = 0 -> no bra\n",
    "    # flag = 1 -> has bra\n",
    "    label = extract_label(os.path.join(without_bra_path, image), False)\n",
    "    \n",
    "#     print(label)\n",
    "    \n",
    "    labels.append(label)\n",
    "    images.append(img_resize);"
   ]
  },
  {
   "cell_type": "markdown",
   "metadata": {},
   "source": [
    "# Performing one-hot encoding on labels"
   ]
  },
  {
   "cell_type": "markdown",
   "metadata": {},
   "source": [
    "### Convert image arry to np array"
   ]
  },
  {
   "cell_type": "code",
   "execution_count": 7,
   "metadata": {},
   "outputs": [],
   "source": [
    "lb = LabelBinarizer()\n",
    "labels = lb.fit_transform(labels)\n",
    "labels = to_categorical(labels)"
   ]
  },
  {
   "cell_type": "code",
   "execution_count": 8,
   "metadata": {},
   "outputs": [],
   "source": [
    "np_images = np.array(images).astype('float32')\n",
    "np_labels = np.array(labels).astype('float32')"
   ]
  },
  {
   "cell_type": "code",
   "execution_count": 9,
   "metadata": {
    "scrolled": true
   },
   "outputs": [
    {
     "name": "stdout",
     "output_type": "stream",
     "text": [
      "(530, 224, 224, 3)\n",
      "(530, 2)\n",
      "[[1. 0.]\n",
      " [1. 0.]\n",
      " [1. 0.]\n",
      " ...\n",
      " [0. 1.]\n",
      " [0. 1.]\n",
      " [0. 1.]]\n"
     ]
    }
   ],
   "source": [
    "print(np_images.shape)\n",
    "print(np_labels.shape)\n",
    "\n",
    "print(np_labels[1:-1])"
   ]
  },
  {
   "cell_type": "code",
   "execution_count": 10,
   "metadata": {},
   "outputs": [],
   "source": [
    "X_train, X_val, y_train, y_val = train_test_split(np_images, np_labels, test_size = 0.3, random_state = 1)"
   ]
  },
  {
   "cell_type": "code",
   "execution_count": 11,
   "metadata": {},
   "outputs": [
    {
     "name": "stdout",
     "output_type": "stream",
     "text": [
      "Train size:  371 Test size:  159\n"
     ]
    }
   ],
   "source": [
    "img_gen = ImageDataGenerator(rotation_range=40,\n",
    "                            zoom_range=0.20,\n",
    "                            width_shift_range=0.2,\n",
    "                            height_shift_range=0.2,\n",
    "                            shear_range=0.15,\n",
    "                            horizontal_flip=True,\n",
    "                            fill_mode=\"nearest\")\n",
    "\n",
    "print(\"Train size: \",len(X_train),\"Test size: \",len(X_val))"
   ]
  },
  {
   "cell_type": "code",
   "execution_count": 12,
   "metadata": {},
   "outputs": [
    {
     "name": "stdout",
     "output_type": "stream",
     "text": [
      "<class 'numpy.ndarray'>\n",
      "<class 'numpy.ndarray'>\n"
     ]
    }
   ],
   "source": [
    "# debug \n",
    "print(type(X_train))\n",
    "print(type(y_train))"
   ]
  },
  {
   "cell_type": "markdown",
   "metadata": {},
   "source": [
    "## MobileNetV2 acrchitecture"
   ]
  },
  {
   "cell_type": "code",
   "execution_count": 13,
   "metadata": {
    "scrolled": true
   },
   "outputs": [
    {
     "name": "stdout",
     "output_type": "stream",
     "text": [
      "Model: \"sequential\"\n",
      "_________________________________________________________________\n",
      "Layer (type)                 Output Shape              Param #   \n",
      "=================================================================\n",
      "conv2d (Conv2D)              (None, 224, 224, 512)     6656      \n",
      "_________________________________________________________________\n",
      "max_pooling2d (MaxPooling2D) (None, 112, 112, 512)     0         \n",
      "_________________________________________________________________\n",
      "conv2d_1 (Conv2D)            (None, 112, 112, 256)     524544    \n",
      "_________________________________________________________________\n",
      "max_pooling2d_1 (MaxPooling2 (None, 56, 56, 256)       0         \n",
      "_________________________________________________________________\n",
      "conv2d_2 (Conv2D)            (None, 56, 56, 128)       131200    \n",
      "_________________________________________________________________\n",
      "max_pooling2d_2 (MaxPooling2 (None, 28, 28, 128)       0         \n",
      "_________________________________________________________________\n",
      "conv2d_3 (Conv2D)            (None, 28, 28, 64)        32832     \n",
      "_________________________________________________________________\n",
      "max_pooling2d_3 (MaxPooling2 (None, 14, 14, 64)        0         \n",
      "_________________________________________________________________\n",
      "conv2d_4 (Conv2D)            (None, 14, 14, 32)        8224      \n",
      "_________________________________________________________________\n",
      "max_pooling2d_4 (MaxPooling2 (None, 7, 7, 32)          0         \n",
      "_________________________________________________________________\n",
      "dropout (Dropout)            (None, 7, 7, 32)          0         \n",
      "_________________________________________________________________\n",
      "flatten (Flatten)            (None, 1568)              0         \n",
      "_________________________________________________________________\n",
      "dense (Dense)                (None, 64)                100416    \n",
      "_________________________________________________________________\n",
      "dense_1 (Dense)              (None, 2)                 130       \n",
      "=================================================================\n",
      "Total params: 804,002\n",
      "Trainable params: 804,002\n",
      "Non-trainable params: 0\n",
      "_________________________________________________________________\n"
     ]
    }
   ],
   "source": [
    "model = Sequential()\n",
    "model.add(Conv2D(512,(2,2),padding=\"same\",activation=\"relu\",input_shape=(224,224,3)))\n",
    "model.add(MaxPooling2D((2,2),strides=2))\n",
    "\n",
    "model.add(Conv2D(256,(2,2),padding=\"same\",activation=\"relu\"))\n",
    "model.add(MaxPooling2D((2,2),strides=2))\n",
    "\n",
    "model.add(Conv2D(128,(2,2),padding=\"same\",activation=\"relu\"))\n",
    "model.add(MaxPooling2D((2,2),strides=2))\n",
    "\n",
    "model.add(Conv2D(64,(2,2),padding=\"same\",activation=\"relu\"))\n",
    "model.add(MaxPooling2D((2,2),strides=2))\n",
    "\n",
    "model.add(Conv2D(32,(2,2),padding=\"same\",activation=\"relu\"))\n",
    "model.add(MaxPooling2D((2,2),strides=2))\n",
    "\n",
    "#model.add(BatchNormalization())\n",
    "\n",
    "model.add(Dropout(0.4))\n",
    "model.add(Flatten())\n",
    "model.add(Dense(64,activation=\"relu\"))\n",
    "model.add(Dense(2,activation=\"softmax\"))\n",
    "\n",
    "model.compile(optimizer=\"adam\",loss=\"binary_crossentropy\",metrics=[\"accuracy\"])\n",
    "model.summary()"
   ]
  },
  {
   "cell_type": "code",
   "execution_count": 14,
   "metadata": {},
   "outputs": [
    {
     "name": "stdout",
     "output_type": "stream",
     "text": [
      "Epoch 1/20\n",
      "34/34 [==============================] - 84s 2s/step - loss: 4.3940 - accuracy: 0.5649 - val_loss: 0.7299 - val_accuracy: 0.4737\n",
      "Epoch 2/20\n",
      "34/34 [==============================] - 82s 2s/step - loss: 0.7146 - accuracy: 0.6066 - val_loss: 0.6350 - val_accuracy: 0.7105\n",
      "Epoch 3/20\n",
      "34/34 [==============================] - 84s 2s/step - loss: 0.6511 - accuracy: 0.6557 - val_loss: 0.6627 - val_accuracy: 0.7105\n",
      "Epoch 4/20\n",
      "34/34 [==============================] - 89s 3s/step - loss: 0.6691 - accuracy: 0.6275 - val_loss: 0.6900 - val_accuracy: 0.4737\n",
      "Epoch 5/20\n",
      "34/34 [==============================] - 89s 3s/step - loss: 0.6423 - accuracy: 0.6582 - val_loss: 0.5381 - val_accuracy: 0.7895\n",
      "Epoch 6/20\n",
      "34/34 [==============================] - 86s 3s/step - loss: 0.5818 - accuracy: 0.7342 - val_loss: 0.4279 - val_accuracy: 0.8158\n",
      "Epoch 7/20\n",
      "34/34 [==============================] - 87s 3s/step - loss: 0.4414 - accuracy: 0.8156 - val_loss: 0.4808 - val_accuracy: 0.7632\n",
      "Epoch 8/20\n",
      "34/34 [==============================] - 87s 3s/step - loss: 0.5134 - accuracy: 0.7828 - val_loss: 0.5864 - val_accuracy: 0.6579\n",
      "Epoch 9/20\n",
      "34/34 [==============================] - 86s 3s/step - loss: 0.6168 - accuracy: 0.8022 - val_loss: 0.4646 - val_accuracy: 0.8421\n",
      "Epoch 10/20\n",
      "34/34 [==============================] - 83s 2s/step - loss: 0.4678 - accuracy: 0.8236 - val_loss: 0.3907 - val_accuracy: 0.8684\n",
      "Epoch 11/20\n",
      "34/34 [==============================] - 84s 2s/step - loss: 0.3742 - accuracy: 0.8491 - val_loss: 0.3277 - val_accuracy: 0.8947\n",
      "Epoch 12/20\n",
      "34/34 [==============================] - 86s 3s/step - loss: 0.3426 - accuracy: 0.8833 - val_loss: 0.3518 - val_accuracy: 0.8684\n",
      "Epoch 13/20\n",
      "34/34 [==============================] - 83s 2s/step - loss: 0.3283 - accuracy: 0.8455 - val_loss: 0.3218 - val_accuracy: 0.9211\n",
      "Epoch 14/20\n",
      "34/34 [==============================] - 83s 2s/step - loss: 0.2437 - accuracy: 0.9015 - val_loss: 0.3098 - val_accuracy: 0.8947\n",
      "Epoch 15/20\n",
      "34/34 [==============================] - 84s 2s/step - loss: 0.3074 - accuracy: 0.8454 - val_loss: 0.2973 - val_accuracy: 0.9211\n",
      "Epoch 16/20\n",
      "34/34 [==============================] - 84s 2s/step - loss: 0.2167 - accuracy: 0.9163 - val_loss: 0.2872 - val_accuracy: 0.8947\n",
      "Epoch 17/20\n",
      "34/34 [==============================] - 85s 3s/step - loss: 0.2555 - accuracy: 0.9067 - val_loss: 0.2704 - val_accuracy: 0.9474\n",
      "Epoch 18/20\n",
      "34/34 [==============================] - 86s 3s/step - loss: 0.1984 - accuracy: 0.9251 - val_loss: 0.2985 - val_accuracy: 0.8684\n",
      "Epoch 19/20\n",
      "34/34 [==============================] - 84s 2s/step - loss: 0.2614 - accuracy: 0.8941 - val_loss: 0.7596 - val_accuracy: 0.6842\n",
      "Epoch 20/20\n",
      "34/34 [==============================] - 84s 2s/step - loss: 0.3621 - accuracy: 0.8755 - val_loss: 0.3927 - val_accuracy: 0.8947\n"
     ]
    }
   ],
   "source": [
    "history = model.fit(\n",
    "    X_train,\n",
    "    y_train,\n",
    "    epochs = 20,\n",
    "    batch_size = 10,\n",
    "    validation_data = (X_val, y_val), \n",
    "    validation_split=0.1\n",
    ")\n",
    "\n",
    "# history = model.fit(img_gen.flow(X_train,y_train,batch_size=5),\n",
    "#                     steps_per_epoch=300,\n",
    "#                     validation_data=(X_val,y_val),\n",
    "#                     validation_steps=300,\n",
    "#                     epochs=45)"
   ]
  },
  {
   "cell_type": "code",
   "execution_count": 15,
   "metadata": {},
   "outputs": [],
   "source": [
    "def plot_graph(history,string):\n",
    "    plt.figure(figsize=(16,7))\n",
    "    plt.plot(history.history[string],label=str(string))\n",
    "    plt.plot(history.history[\"val_\"+str(string)],label=str(string))\n",
    "    plt.xlabel(\"Epochs\")\n",
    "    plt.ylabel(string)\n",
    "    plt.legend([string,\"val_\"+string])\n",
    "    plt.show()"
   ]
  },
  {
   "cell_type": "code",
   "execution_count": 16,
   "metadata": {},
   "outputs": [
    {
     "data": {
      "image/png": "[encoded data removed]",
      "text/plain": [
       "<Figure size 1152x504 with 1 Axes>"
      ]
     },
     "metadata": {
      "needs_background": "light"
     },
     "output_type": "display_data"
    },
    {
     "data": {
      "image/png": "[encoded data removed]",
      "text/plain": [
       "<Figure size 1152x504 with 1 Axes>"
      ]
     },
     "metadata": {
      "needs_background": "light"
     },
     "output_type": "display_data"
    }
   ],
   "source": [
    "plot_graph(history,\"accuracy\")\n",
    "plot_graph(history,\"loss\")"
   ]
  },
  {
   "cell_type": "markdown",
   "metadata": {},
   "source": [
    "# save model "
   ]
  },
  {
   "cell_type": "code",
   "execution_count": 21,
   "metadata": {},
   "outputs": [],
   "source": [
    "model.save('bra_dection_mobileNetV2.h5')"
   ]
  },
  {
   "cell_type": "markdown",
   "metadata": {},
   "source": [
    "# Test"
   ]
  },
  {
   "cell_type": "code",
   "execution_count": 22,
   "metadata": {},
   "outputs": [],
   "source": [
    "pred = model.predict(X_val)"
   ]
  },
  {
   "cell_type": "code",
   "execution_count": 20,
   "metadata": {},
   "outputs": [
    {
     "name": "stdout",
     "output_type": "stream",
     "text": [
      "[0.03383148 0.96616846]\n",
      "[1. 0.]\n"
     ]
    }
   ],
   "source": [
    "print(pred[1])\n",
    "print(y_val[5])"
   ]
  },
  {
   "cell_type": "code",
   "execution_count": null,
   "metadata": {},
   "outputs": [],
   "source": []
  }
 ],
 "metadata": {
  "interpreter": {
   "hash": "c6a7cb9e924d6de1de40c129b310dac65a7dcf305c3982e51303baf3b09b890b"
  },
  "kernelspec": {
   "display_name": "Python 3 (ipykernel)",
   "language": "python",
   "name": "python3"
  },
  "language_info": {
   "codemirror_mode": {
    "name": "ipython",
    "version": 3
   },
   "file_extension": ".py",
   "mimetype": "text/x-python",
   "name": "python",
   "nbconvert_exporter": "python",
   "pygments_lexer": "ipython3",
   "version": "3.8.5"
  }
 },
 "nbformat": 4,
 "nbformat_minor": 4
}
