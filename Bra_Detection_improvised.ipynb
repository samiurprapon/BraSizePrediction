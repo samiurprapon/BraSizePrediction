{
  "nbformat": 4,
  "nbformat_minor": 0,
  "metadata": {
    "interpreter": {
      "hash": "c6a7cb9e924d6de1de40c129b310dac65a7dcf305c3982e51303baf3b09b890b"
    },
    "kernelspec": {
      "display_name": "Python 3 (ipykernel)",
      "language": "python",
      "name": "python3"
    },
    "language_info": {
      "codemirror_mode": {
        "name": "ipython",
        "version": 3
      },
      "file_extension": ".py",
      "mimetype": "text/x-python",
      "name": "python",
      "nbconvert_exporter": "python",
      "pygments_lexer": "ipython3",
      "version": "3.8.5"
    },
    "colab": {
      "name": "Bra Detection.ipynb",
      "provenance": [],
      "collapsed_sections": []
    },
    "accelerator": "GPU"
  },
  "cells": [
    {
      "cell_type": "markdown",
      "metadata": {
        "id": "08s4hTzdTEHm"
      },
      "source": [
        "# Bra detection"
      ]
    },
    {
      "cell_type": "code",
      "metadata": {
        "colab": {
          "base_uri": "https://localhost:8080/"
        },
        "id": "-4Jz_-oQTHoj",
        "outputId": "e067e88b-3714-4e89-8082-8a1492bedfc9"
      },
      "source": [
        "from google.colab import drive\n",
        "drive.mount('/content/drive')"
      ],
      "execution_count": 1,
      "outputs": [
        {
          "output_type": "stream",
          "name": "stdout",
          "text": [
            "Mounted at /content/drive\n"
          ]
        }
      ]
    },
    {
      "cell_type": "markdown",
      "metadata": {
        "id": "Mvu3q43STEHv"
      },
      "source": [
        "## Import libraries"
      ]
    },
    {
      "cell_type": "code",
      "metadata": {
        "scrolled": true,
        "id": "czLIh3-STEHy"
      },
      "source": [
        "from sklearn import preprocessing \n",
        "from sklearn.model_selection import train_test_split\n",
        "from sklearn.preprocessing import LabelBinarizer\n",
        "\n",
        "import matplotlib.pyplot as plt\n",
        "import cv2\n",
        "\n",
        "import tensorflow as tf\n",
        "from tensorflow.keras.preprocessing.image import load_img , img_to_array\n",
        "\n",
        "import pandas as pd \n",
        "import numpy as np\n",
        "\n",
        "import os\n",
        "\n",
        "from tensorflow.keras.preprocessing.image import ImageDataGenerator\n",
        "from tensorflow.keras.applications import MobileNetV2\n",
        "from tensorflow.keras.applications.mobilenet_v2 import preprocess_input\n",
        "\n",
        "from tensorflow.keras.layers import Dropout\n",
        "from tensorflow.keras.layers import MaxPooling2D\n",
        "from tensorflow.keras.layers import AveragePooling2D\n",
        "from tensorflow.keras.layers import Dense\n",
        "from tensorflow.keras.layers import Flatten\n",
        "from tensorflow.keras.layers import Input\n",
        "from tensorflow.keras.layers import Conv2D\n",
        "from tensorflow.keras.layers import add\n",
        "from tensorflow.keras.layers import Activation\n",
        "from tensorflow.keras.layers import BatchNormalization\n",
        "\n",
        "from tensorflow.keras.models import Sequential , Model , load_model\n",
        "\n",
        "from tensorflow.keras.utils import to_categorical"
      ],
      "execution_count": 59,
      "outputs": []
    },
    {
      "cell_type": "code",
      "metadata": {
        "colab": {
          "base_uri": "https://localhost:8080/"
        },
        "id": "AMqnWVIXTEH3",
        "outputId": "12cd7f0b-4ff4-4c56-d6ef-3b2ad9804059"
      },
      "source": [
        "print(\"Num GPUs Available: \", len(tf.config.list_physical_devices('GPU')))"
      ],
      "execution_count": 22,
      "outputs": [
        {
          "output_type": "stream",
          "name": "stdout",
          "text": [
            "Num GPUs Available:  1\n"
          ]
        }
      ]
    },
    {
      "cell_type": "code",
      "metadata": {
        "id": "13KwfY4VTEH8"
      },
      "source": [
        "def extract_label(img_path, flag):\n",
        "    filename, extension = os.path.splitext(os.path.basename(img_path))\n",
        "    \n",
        "    subject_id, etc = filename.split(\"__\") # 2 underscore\n",
        "    bra = \"without_bra\"\n",
        "    \n",
        "    if flag:\n",
        "        breast_size, waist_size, band_size, cup_size, with_bra = etc.split('_')\n",
        "        \n",
        "        if with_bra == 'true':\n",
        "            bra = \"with_bra\"\n",
        "\n",
        "        return bra\n",
        "    else:\n",
        "        breast_size, waist_size, band_size, cup_size = etc.split('_')\n",
        "        return bra"
      ],
      "execution_count": 23,
      "outputs": []
    },
    {
      "cell_type": "code",
      "metadata": {
        "id": "2ZULWlm0TEH-"
      },
      "source": [
        "bra_path = \"/content/drive/MyDrive/datasets/dataset/with_bra\"\n",
        "without_bra_path = \"/content/drive/MyDrive/datasets/dataset/without_bra\"\n",
        "\n",
        "img_size = 224\n",
        "\n",
        "images = []\n",
        "labels = []"
      ],
      "execution_count": 24,
      "outputs": []
    },
    {
      "cell_type": "code",
      "metadata": {
        "id": "qMCwMalITEIA"
      },
      "source": [
        "for image in os.listdir(bra_path):\n",
        "    img = cv2.imread(os.path.join(bra_path, image), cv2.IMREAD_COLOR)\n",
        "    \n",
        "    img_resize = cv2.resize(img, (img_size, img_size))\n",
        "        \n",
        "    # flag = 0 -> no bra\n",
        "    # flag = 1 -> has bra\n",
        "    label = extract_label(os.path.join(bra_path, image), True)\n",
        "    \n",
        "#     print(label)\n",
        "    \n",
        "    labels.append(label)\n",
        "    images.append(img_resize);\n"
      ],
      "execution_count": 25,
      "outputs": []
    },
    {
      "cell_type": "code",
      "metadata": {
        "id": "SUoWn5QPTEID"
      },
      "source": [
        "for image in os.listdir(without_bra_path):\n",
        "    img = cv2.imread(os.path.join(without_bra_path, image), cv2.IMREAD_COLOR)\n",
        "    \n",
        "    img_resize = cv2.resize(img, (img_size, img_size))\n",
        "        \n",
        "    # flag = 0 -> no bra\n",
        "    # flag = 1 -> has bra\n",
        "    label = extract_label(os.path.join(without_bra_path, image), False)\n",
        "    \n",
        "#     print(label)\n",
        "    \n",
        "    labels.append(label)\n",
        "    images.append(img_resize);"
      ],
      "execution_count": 26,
      "outputs": []
    },
    {
      "cell_type": "code",
      "metadata": {
        "id": "P-JP1uXq9j4U"
      },
      "source": [
        "unique_labels = unique_list = list(set(labels))"
      ],
      "execution_count": null,
      "outputs": []
    },
    {
      "cell_type": "markdown",
      "metadata": {
        "id": "0U1fpg8nTEIF"
      },
      "source": [
        "# Performing one-hot encoding on labels"
      ]
    },
    {
      "cell_type": "code",
      "metadata": {
        "id": "612XiahmTEII"
      },
      "source": [
        "lb = LabelBinarizer()\n",
        "labels = lb.fit_transform(labels)\n",
        "labels = to_categorical(labels)"
      ],
      "execution_count": 27,
      "outputs": []
    },
    {
      "cell_type": "markdown",
      "metadata": {
        "id": "nQ4YsfCuTEIH"
      },
      "source": [
        "### Convert image arry to np array"
      ]
    },
    {
      "cell_type": "code",
      "metadata": {
        "id": "Ep0LRiotTEIJ"
      },
      "source": [
        "np_images = np.array(images).astype('float32')\n",
        "np_labels = np.array(labels).astype('float32')"
      ],
      "execution_count": 28,
      "outputs": []
    },
    {
      "cell_type": "code",
      "metadata": {
        "scrolled": true,
        "colab": {
          "base_uri": "https://localhost:8080/"
        },
        "id": "gV-vw_xXTEIK",
        "outputId": "096ee9a1-11fb-4629-a50a-c851a31adfc4"
      },
      "source": [
        "print(np_images.shape)\n",
        "print(np_labels.shape)\n",
        "\n",
        "unique_labels = np.asarray(unique_labels)"
      ],
      "execution_count": 29,
      "outputs": [
        {
          "output_type": "stream",
          "name": "stdout",
          "text": [
            "(530, 224, 224, 3)\n",
            "(530, 2)\n"
          ]
        }
      ]
    },
    {
      "cell_type": "code",
      "metadata": {
        "id": "A8GNkVMkTEIM"
      },
      "source": [
        "X_train, X_val, y_train, y_val = train_test_split(np_images, np_labels, test_size = 0.3, random_state = 1)"
      ],
      "execution_count": 30,
      "outputs": []
    },
    {
      "cell_type": "code",
      "metadata": {
        "colab": {
          "base_uri": "https://localhost:8080/"
        },
        "id": "94H9Pb7-TEIO",
        "outputId": "babe733d-375d-4f54-cc3e-a5c050df144b"
      },
      "source": [
        "img_gen = ImageDataGenerator(rotation_range=40,\n",
        "                            zoom_range=0.20,\n",
        "                            width_shift_range=0.2,\n",
        "                            height_shift_range=0.2,\n",
        "                            shear_range=0.15,\n",
        "                            horizontal_flip=True,\n",
        "                            fill_mode=\"nearest\")\n",
        "\n",
        "print(\"Train size: \",len(X_train),\"Test size: \",len(X_val))"
      ],
      "execution_count": 31,
      "outputs": [
        {
          "output_type": "stream",
          "name": "stdout",
          "text": [
            "Train size:  371 Test size:  159\n"
          ]
        }
      ]
    },
    {
      "cell_type": "code",
      "metadata": {
        "colab": {
          "base_uri": "https://localhost:8080/"
        },
        "id": "a3y-ywf9TEIQ",
        "outputId": "148f029e-fe58-4ee1-d2d7-fbb03b725472"
      },
      "source": [
        "# debug \n",
        "print(type(X_train))\n",
        "print(type(y_train))"
      ],
      "execution_count": 32,
      "outputs": [
        {
          "output_type": "stream",
          "name": "stdout",
          "text": [
            "<class 'numpy.ndarray'>\n",
            "<class 'numpy.ndarray'>\n"
          ]
        }
      ]
    },
    {
      "cell_type": "markdown",
      "metadata": {
        "id": "lvzmAz30TEIR"
      },
      "source": [
        "## MobileNetV2 acrchitecture"
      ]
    },
    {
      "cell_type": "code",
      "metadata": {
        "scrolled": true,
        "colab": {
          "base_uri": "https://localhost:8080/"
        },
        "id": "1eLzpYbTTEIS",
        "outputId": "9c20e08f-51cf-4aca-87b4-7433155740b2"
      },
      "source": [
        "model = Sequential()\n",
        "model.add(Conv2D(512,(2,2),padding=\"same\",activation=\"relu\",input_shape=(224,224,3)))\n",
        "model.add(MaxPooling2D((2,2),strides=2))\n",
        "\n",
        "model.add(Conv2D(256,(2,2),padding=\"same\",activation=\"relu\"))\n",
        "model.add(MaxPooling2D((2,2),strides=2))\n",
        "\n",
        "model.add(Conv2D(128,(2,2),padding=\"same\",activation=\"relu\"))\n",
        "model.add(MaxPooling2D((2,2),strides=2))\n",
        "\n",
        "model.add(Conv2D(64,(2,2),padding=\"same\",activation=\"relu\"))\n",
        "model.add(MaxPooling2D((2,2),strides=2))\n",
        "\n",
        "model.add(Conv2D(32,(2,2),padding=\"same\",activation=\"relu\"))\n",
        "model.add(MaxPooling2D((2,2),strides=2))\n",
        "\n",
        "#model.add(BatchNormalization())\n",
        "\n",
        "model.add(Dropout(0.4))\n",
        "model.add(Flatten())\n",
        "model.add(Dense(64,activation=\"relu\"))\n",
        "model.add(Dense(2,activation=\"softmax\"))\n",
        "\n",
        "model.compile(optimizer=\"adam\",loss=\"binary_crossentropy\",metrics=[\"accuracy\"])\n",
        "model.summary()"
      ],
      "execution_count": 33,
      "outputs": [
        {
          "output_type": "stream",
          "name": "stdout",
          "text": [
            "Model: \"sequential_1\"\n",
            "_________________________________________________________________\n",
            "Layer (type)                 Output Shape              Param #   \n",
            "=================================================================\n",
            "conv2d_5 (Conv2D)            (None, 224, 224, 512)     6656      \n",
            "_________________________________________________________________\n",
            "max_pooling2d_5 (MaxPooling2 (None, 112, 112, 512)     0         \n",
            "_________________________________________________________________\n",
            "conv2d_6 (Conv2D)            (None, 112, 112, 256)     524544    \n",
            "_________________________________________________________________\n",
            "max_pooling2d_6 (MaxPooling2 (None, 56, 56, 256)       0         \n",
            "_________________________________________________________________\n",
            "conv2d_7 (Conv2D)            (None, 56, 56, 128)       131200    \n",
            "_________________________________________________________________\n",
            "max_pooling2d_7 (MaxPooling2 (None, 28, 28, 128)       0         \n",
            "_________________________________________________________________\n",
            "conv2d_8 (Conv2D)            (None, 28, 28, 64)        32832     \n",
            "_________________________________________________________________\n",
            "max_pooling2d_8 (MaxPooling2 (None, 14, 14, 64)        0         \n",
            "_________________________________________________________________\n",
            "conv2d_9 (Conv2D)            (None, 14, 14, 32)        8224      \n",
            "_________________________________________________________________\n",
            "max_pooling2d_9 (MaxPooling2 (None, 7, 7, 32)          0         \n",
            "_________________________________________________________________\n",
            "dropout_1 (Dropout)          (None, 7, 7, 32)          0         \n",
            "_________________________________________________________________\n",
            "flatten_1 (Flatten)          (None, 1568)              0         \n",
            "_________________________________________________________________\n",
            "dense_2 (Dense)              (None, 64)                100416    \n",
            "_________________________________________________________________\n",
            "dense_3 (Dense)              (None, 2)                 130       \n",
            "=================================================================\n",
            "Total params: 804,002\n",
            "Trainable params: 804,002\n",
            "Non-trainable params: 0\n",
            "_________________________________________________________________\n"
          ]
        }
      ]
    },
    {
      "cell_type": "code",
      "metadata": {
        "colab": {
          "base_uri": "https://localhost:8080/"
        },
        "id": "w4HgjcAJTEIT",
        "outputId": "b410ea84-b8ac-43f2-b4dc-4f09cb45fde2"
      },
      "source": [
        "history = model.fit(\n",
        "    X_train,\n",
        "    y_train,\n",
        "    epochs = 32,\n",
        "    steps_per_epoch=32,\n",
        "    batch_size = 10,\n",
        "    validation_data = (X_val, y_val), \n",
        "    validation_steps=5,\n",
        "    validation_split=0.15\n",
        ")\n",
        "\n",
        "# history = model.fit(img_gen.flow(X_train,y_train,batch_size=5),\n",
        "#                     steps_per_epoch=64,\n",
        "#                     validation_data=(X_val,y_val),\n",
        "#                     validation_steps=300,\n",
        "#                     epochs=45)"
      ],
      "execution_count": 40,
      "outputs": [
        {
          "output_type": "stream",
          "name": "stdout",
          "text": [
            "Epoch 1/32\n",
            "32/32 [==============================] - 14s 446ms/step - loss: 0.0459 - accuracy: 0.9873 - val_loss: 0.5027 - val_accuracy: 0.9600\n",
            "Epoch 2/32\n",
            "32/32 [==============================] - 14s 443ms/step - loss: 0.0448 - accuracy: 0.9810 - val_loss: 0.4117 - val_accuracy: 0.9600\n",
            "Epoch 3/32\n",
            "32/32 [==============================] - 14s 445ms/step - loss: 0.0270 - accuracy: 0.9873 - val_loss: 0.4236 - val_accuracy: 0.9600\n",
            "Epoch 4/32\n",
            "32/32 [==============================] - 14s 443ms/step - loss: 0.0365 - accuracy: 0.9905 - val_loss: 0.3719 - val_accuracy: 0.9000\n",
            "Epoch 5/32\n",
            "32/32 [==============================] - 14s 444ms/step - loss: 0.0816 - accuracy: 0.9746 - val_loss: 0.4514 - val_accuracy: 0.9400\n",
            "Epoch 6/32\n",
            "32/32 [==============================] - 14s 442ms/step - loss: 0.0293 - accuracy: 0.9937 - val_loss: 1.0411 - val_accuracy: 0.9600\n",
            "Epoch 7/32\n",
            "32/32 [==============================] - 14s 444ms/step - loss: 0.1370 - accuracy: 0.9714 - val_loss: 0.8937 - val_accuracy: 0.8600\n",
            "Epoch 8/32\n",
            "32/32 [==============================] - 14s 442ms/step - loss: 0.0919 - accuracy: 0.9651 - val_loss: 0.7724 - val_accuracy: 0.9000\n",
            "Epoch 9/32\n",
            "32/32 [==============================] - 14s 443ms/step - loss: 0.0476 - accuracy: 0.9873 - val_loss: 0.5509 - val_accuracy: 0.9400\n",
            "Epoch 10/32\n",
            "32/32 [==============================] - 14s 441ms/step - loss: 0.0350 - accuracy: 0.9968 - val_loss: 0.2389 - val_accuracy: 0.9400\n",
            "Epoch 11/32\n",
            "32/32 [==============================] - 14s 442ms/step - loss: 0.1428 - accuracy: 0.9587 - val_loss: 0.6662 - val_accuracy: 0.9200\n",
            "Epoch 13/32\n",
            "32/32 [==============================] - 14s 443ms/step - loss: 0.0282 - accuracy: 0.9968 - val_loss: 1.0200 - val_accuracy: 0.8800\n",
            "Epoch 14/32\n",
            "32/32 [==============================] - 14s 441ms/step - loss: 0.0921 - accuracy: 0.9714 - val_loss: 0.7667 - val_accuracy: 0.9600\n",
            "Epoch 15/32\n",
            "32/32 [==============================] - 14s 443ms/step - loss: 0.0408 - accuracy: 0.9905 - val_loss: 0.4191 - val_accuracy: 0.9400\n",
            "Epoch 16/32\n",
            "32/32 [==============================] - 14s 443ms/step - loss: 0.0594 - accuracy: 0.9778 - val_loss: 0.5013 - val_accuracy: 0.9000\n",
            "Epoch 17/32\n",
            "32/32 [==============================] - 14s 443ms/step - loss: 0.0443 - accuracy: 0.9841 - val_loss: 0.5995 - val_accuracy: 0.9600\n",
            "Epoch 18/32\n",
            "32/32 [==============================] - 14s 441ms/step - loss: 0.0093 - accuracy: 0.9968 - val_loss: 0.8862 - val_accuracy: 0.9200\n",
            "Epoch 19/32\n",
            "32/32 [==============================] - 14s 442ms/step - loss: 0.0482 - accuracy: 0.9873 - val_loss: 0.3929 - val_accuracy: 0.9000\n",
            "Epoch 20/32\n",
            "32/32 [==============================] - 14s 441ms/step - loss: 0.0286 - accuracy: 0.9905 - val_loss: 0.4956 - val_accuracy: 0.9400\n",
            "Epoch 21/32\n",
            "32/32 [==============================] - 14s 443ms/step - loss: 0.0173 - accuracy: 0.9937 - val_loss: 0.5515 - val_accuracy: 0.9200\n",
            "Epoch 22/32\n",
            "32/32 [==============================] - 14s 440ms/step - loss: 0.0059 - accuracy: 0.9968 - val_loss: 0.6504 - val_accuracy: 0.9200\n",
            "Epoch 23/32\n",
            "32/32 [==============================] - 14s 442ms/step - loss: 0.0162 - accuracy: 0.9937 - val_loss: 0.5499 - val_accuracy: 0.9400\n",
            "Epoch 24/32\n",
            "32/32 [==============================] - 14s 442ms/step - loss: 0.0495 - accuracy: 0.9873 - val_loss: 1.5552 - val_accuracy: 0.8400\n",
            "Epoch 25/32\n",
            "32/32 [==============================] - 14s 443ms/step - loss: 0.0246 - accuracy: 0.9873 - val_loss: 1.0006 - val_accuracy: 0.9000\n",
            "Epoch 26/32\n",
            "32/32 [==============================] - 14s 442ms/step - loss: 0.0735 - accuracy: 0.9810 - val_loss: 0.5474 - val_accuracy: 0.9200\n",
            "Epoch 27/32\n",
            "32/32 [==============================] - 14s 443ms/step - loss: 0.0216 - accuracy: 0.9968 - val_loss: 0.6935 - val_accuracy: 0.9200\n",
            "Epoch 28/32\n",
            "32/32 [==============================] - 14s 444ms/step - loss: 0.1247 - accuracy: 0.9651 - val_loss: 0.9720 - val_accuracy: 0.9200\n",
            "Epoch 29/32\n",
            "32/32 [==============================] - 14s 443ms/step - loss: 0.0837 - accuracy: 0.9714 - val_loss: 0.3555 - val_accuracy: 0.9200\n",
            "Epoch 30/32\n",
            "32/32 [==============================] - 14s 442ms/step - loss: 0.0877 - accuracy: 0.9746 - val_loss: 0.4668 - val_accuracy: 0.9200\n",
            "Epoch 31/32\n",
            "32/32 [==============================] - 14s 444ms/step - loss: 0.0997 - accuracy: 0.9746 - val_loss: 0.4425 - val_accuracy: 0.9000\n",
            "Epoch 32/32\n",
            "32/32 [==============================] - 14s 443ms/step - loss: 0.0186 - accuracy: 0.9968 - val_loss: 0.5927 - val_accuracy: 0.9000\n"
          ]
        }
      ]
    },
    {
      "cell_type": "code",
      "metadata": {
        "id": "PUFn5XYeTEIW"
      },
      "source": [
        "def plot_graph(history,string):\n",
        "    plt.figure(figsize=(16,7))\n",
        "    plt.plot(history.history[string],label=str(string))\n",
        "    plt.plot(history.history[\"val_\"+str(string)],label=str(string))\n",
        "    plt.xlabel(\"Epochs\")\n",
        "    plt.ylabel(string)\n",
        "    plt.legend([string,\"val_\"+string])\n",
        "    plt.show()"
      ],
      "execution_count": 41,
      "outputs": []
    },
    {
      "cell_type": "code",
      "metadata": {
        "colab": {
          "base_uri": "https://localhost:8080/",
          "height": 867
        },
        "id": "E96Ouwq6TEIX",
        "outputId": "9a5b86a1-1ecc-49dc-dd6d-fdc888ad6455"
      },
      "source": [
        "plot_graph(history,\"accuracy\")\n",
        "plot_graph(history,\"loss\")"
      ],
      "execution_count": 42,
      "outputs": [
        {
          "output_type": "display_data",
          "data": {
            "image/png": "[encoded data removed]",
            "text/plain": [
              "<Figure size 1152x504 with 1 Axes>"
            ]
          },
          "metadata": {
            "needs_background": "light"
          }
        },
        {
          "output_type": "display_data",
          "data": {
            "image/png": "[encoded data removed]",
            "text/plain": [
              "<Figure size 1152x504 with 1 Axes>"
            ]
          },
          "metadata": {
            "needs_background": "light"
          }
        }
      ]
    },
    {
      "cell_type": "markdown",
      "metadata": {
        "id": "8AWT-ONG3QFk"
      },
      "source": [
        "## Save model"
      ]
    },
    {
      "cell_type": "code",
      "metadata": {
        "id": "wZuoIt4R3Pih"
      },
      "source": [
        "model.save('/content/drive/MyDrive/datasets/dataset/bra_dection_mobileNetV2_improvised.h5')"
      ],
      "execution_count": 46,
      "outputs": []
    },
    {
      "cell_type": "markdown",
      "metadata": {
        "id": "UFEI4ypOlhej"
      },
      "source": [
        "## Test Result "
      ]
    },
    {
      "cell_type": "code",
      "metadata": {
        "id": "dAg0tdipleXV"
      },
      "source": [
        "pred = model.predict(X_val)"
      ],
      "execution_count": 47,
      "outputs": []
    },
    {
      "cell_type": "code",
      "metadata": {
        "colab": {
          "base_uri": "https://localhost:8080/"
        },
        "id": "lQFVH-6NlnmC",
        "outputId": "83d3edf3-812a-4826-cb59-2bef0c258266"
      },
      "source": [
        "print(pred[1])\n",
        "print(y_val[10])"
      ],
      "execution_count": 48,
      "outputs": [
        {
          "output_type": "stream",
          "name": "stdout",
          "text": [
            "[3.0592783e-23 1.0000000e+00]\n",
            "[0. 1.]\n"
          ]
        }
      ]
    },
    {
      "cell_type": "markdown",
      "metadata": {
        "id": "di0Hs9v87FqJ"
      },
      "source": [
        "# Preprocess test images\n"
      ]
    },
    {
      "cell_type": "code",
      "metadata": {
        "id": "iak9fDbr7hns"
      },
      "source": [
        "def load_image(image_path):\n",
        "    return tf.keras.preprocessing.image.load_img(\n",
        "        image_path,\n",
        "        target_size=[INPUT_IMAGE_SIZE, INPUT_IMAGE_SIZE]\n",
        "    )"
      ],
      "execution_count": null,
      "outputs": []
    },
    {
      "cell_type": "code",
      "metadata": {
        "id": "Q4BcWpjC7iZ1"
      },
      "source": [
        "def image_to_array(image):\n",
        "    return tf.keras.preprocessing.image.img_to_array(image, dtype=np.int32)"
      ],
      "execution_count": null,
      "outputs": []
    },
    {
      "cell_type": "code",
      "metadata": {
        "id": "TIzvLx5H7kRO"
      },
      "source": [
        "def display_image(image_np):\n",
        "    plt.figure()\n",
        "    plt.imshow(image_np)"
      ],
      "execution_count": null,
      "outputs": []
    },
    {
      "cell_type": "code",
      "metadata": {
        "id": "Iy9EaQZw7x66"
      },
      "source": [
        "test_images = []\n",
        "\n",
        "for image_path in TEST_IMAGE_PATHS:\n",
        "    # <PIL.Image.Image image mode=RGB size=224x224 at 0x141247ED0>\n",
        "    test_image = load_image(image_path)\n",
        "    test_image_array = image_to_array(test_image)"
      ],
      "execution_count": null,
      "outputs": []
    },
    {
      "cell_type": "code",
      "metadata": {
        "id": "IxZu3iQJ7x_6"
      },
      "source": [
        "print(test_images[1])"
      ],
      "execution_count": null,
      "outputs": []
    },
    {
      "cell_type": "code",
      "metadata": {
        "id": "eMlk4Wr87yC_"
      },
      "source": [
        "def image_preprocess(image_array):\n",
        "    return tf.keras.applications.mobilenet_v2.preprocess_input(\n",
        "        image_array[tf.newaxis, ...]\n",
        "    )"
      ],
      "execution_count": null,
      "outputs": []
    },
    {
      "cell_type": "code",
      "metadata": {
        "id": "Ncjcl8ZL7yFs"
      },
      "source": [
        "test_images_preprocessed = []\n",
        "\n",
        "for test_image in test_images:\n",
        "    test_image_preprocessed = image_preprocess(test_image)\n",
        "    test_images_preprocessed.append(test_image_preprocessed)"
      ],
      "execution_count": null,
      "outputs": []
    },
    {
      "cell_type": "code",
      "metadata": {
        "id": "XKKQDlA97yIW"
      },
      "source": [
        "print('Image shape before preprocessing:', test_images[0].shape)\n",
        "print('Image shape after preprocessing:', test_images_preprocessed[0].shape)"
      ],
      "execution_count": null,
      "outputs": []
    },
    {
      "cell_type": "code",
      "metadata": {
        "id": "4MLdAx1_4Ig_"
      },
      "source": [
        "def get_tags(probs, labels, max_classes = 2, prob_threshold = 0.01):\n",
        "    probs_mask = probs > prob_threshold\n",
        "    probs_filtered = probs[probs_mask] * 100\n",
        "    labels_filtered = unique_labels[probs_mask]\n",
        "    \n",
        "    sorted_index = np.flip(np.argsort(probs_filtered))\n",
        "    labels_filtered = labels_filtered[sorted_index][:max_classes]\n",
        "    probs_filtered = probs_filtered[sorted_index][:max_classes].astype(np.int)\n",
        "    \n",
        "    tags = ''\n",
        "    for i in range(0, len(labels_filtered)):\n",
        "        tags = tags + labels_filtered[i] + ' (' + str(probs_filtered[i]) + '%), ' \n",
        "\n",
        "    return tags, labels_filtered, probs_filtered "
      ],
      "execution_count": null,
      "outputs": []
    },
    {
      "cell_type": "code",
      "metadata": {
        "id": "cMRk5ose4KGS"
      },
      "source": [
        "TEST_IMAGE_INDEX = 1"
      ],
      "execution_count": null,
      "outputs": []
    },
    {
      "cell_type": "code",
      "metadata": {
        "id": "fB1l60MS4LVC"
      },
      "source": [
        "result = model(test_images_preprocessed[TEST_IMAGE_INDEX])"
      ],
      "execution_count": null,
      "outputs": []
    },
    {
      "cell_type": "code",
      "metadata": {
        "id": "UcWtJGIm4Mw2"
      },
      "source": [
        "print(result)"
      ],
      "execution_count": null,
      "outputs": []
    },
    {
      "cell_type": "code",
      "metadata": {
        "id": "u9WOapZW4Ol5"
      },
      "source": [
        "np_result = result.numpy()[0]"
      ],
      "execution_count": null,
      "outputs": []
    },
    {
      "cell_type": "code",
      "metadata": {
        "id": "Dj79EY0N4QLl"
      },
      "source": [
        "print(np_result)"
      ],
      "execution_count": null,
      "outputs": []
    },
    {
      "cell_type": "code",
      "metadata": {
        "id": "cNUzO_Wj9Hlb"
      },
      "source": [
        "tags, labels_filtered, probs_filtered = get_tags(np_result, unique_labels)"
      ],
      "execution_count": null,
      "outputs": []
    },
    {
      "cell_type": "code",
      "metadata": {
        "id": "TekQ30XM4Rdw"
      },
      "source": [
        "print('probs_filtered:', probs_filtered)\n",
        "print('labels_filtered:', labels_filtered)"
      ],
      "execution_count": null,
      "outputs": []
    },
    {
      "cell_type": "code",
      "metadata": {
        "id": "HKBicTmc4TIx"
      },
      "source": [
        "plt.figure()\n",
        "plt.title(tags)\n",
        "plt.imshow(test_image);\n",
        "\n",
        "plt.show()"
      ],
      "execution_count": null,
      "outputs": []
    }
  ]
}